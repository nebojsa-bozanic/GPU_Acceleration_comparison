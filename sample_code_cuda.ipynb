{
 "cells": [
  {
   "cell_type": "code",
   "execution_count": 14,
   "metadata": {
    "pycharm": {
     "is_executing": false,
     "name": "#%%\n"
    }
   },
   "outputs": [
    {
     "name": "stdout",
     "output_type": "stream",
     "text": [
      "Total time = 2.002309560775757\n"
     ]
    }
   ],
   "source": [
    "\n",
    "from __future__ import division\n",
    "from numba import cuda, float32\n",
    "import numpy\n",
    "import math\n",
    "import time\n",
    "\n",
    "# Controls threads per block and shared memory usage.\n",
    "# The computation will be done on blocks of TPBxTPB elements.\n",
    "TPB = 32\n",
    "\n",
    "@cuda.jit\n",
    "def calc(ntmax, Nr, Npre, stdp, dw):\n",
    "    \"\"\"\n",
    "    Perform calc\n",
    "    \"\"\"\n",
    "    \n",
    "    # Define an array in the shared memory\n",
    "    # The size and type of the arrays must be known at compile time\n",
    "    sstdp = cuda.shared.array(shape=(TPB, TPB), dtype=float32)\n",
    "    sdw = cuda.shared.array(shape=(TPB, TPB), dtype=float32)\n",
    "\n",
    "    x, y = cuda.grid(2)\n",
    "    \n",
    "    tx = cuda.threadIdx.x\n",
    "    ty = cuda.threadIdx.y\n",
    "    \n",
    "    if x >= dw.shape[0] and y >= dw.shape[1]:\n",
    "        # Quit if (x, y) is outside of valid C boundary\n",
    "        return\n",
    "\n",
    "    # Each thread computes one element in the result matrix.\n",
    "    # The dot product is chunked into dot products of TPB-long vectors.\n",
    "    tmp = 0.\n",
    "    for i in range(0, ntmax):\n",
    "        for j in range(0, int(Nr / TPB)):\n",
    "            for k in range(0, int(Npre / TPB)):\n",
    "                # Preload data into shared memory\n",
    "                if (stdp[j,k] > 0): dw[j,k]=1\n",
    "                if (stdp[j,k] < 0): dw[j,k]=-1    \n",
    "                \n",
    "        # Wait until all threads finish preloading\n",
    "        cuda.syncthreads()\n",
    "\n",
    "start = time.time()\n",
    "\n",
    "ntmax = 200\n",
    "Nr = 200\n",
    "Npre = 200\n",
    "\n",
    "# Initialize the data arrays\n",
    "stdp = numpy.zeros([Nr,Npre])\n",
    "sw = numpy.zeros([Nr,Npre])\n",
    "dw = numpy.zeros([Nr,Npre])\n",
    "stdp = numpy.random.normal(0,1,[Nr,Npre])            \n",
    "\n",
    "# Copy the arrays to the device\n",
    "ntmax_global_mem = cuda.to_device(ntmax)\n",
    "Nr_global_mem = cuda.to_device(Nr)\n",
    "Npre_global_mem = cuda.to_device(Npre)\n",
    "stdp_global_mem = cuda.to_device(stdp)\n",
    "dw_global_mem = cuda.to_device(dw)\n",
    "\n",
    "# Configure the blocks\n",
    "threadsperblock = (TPB, TPB)\n",
    "blockspergrid_x = int(math.ceil(stdp.shape[0] / threadsperblock[1]))\n",
    "blockspergrid_y = int(math.ceil(dw.shape[1] / threadsperblock[0]))\n",
    "blockspergrid = (blockspergrid_x, blockspergrid_y)\n",
    "\n",
    "# end = time.time()\n",
    "\n",
    "# Start the kernel \n",
    "result = calc[blockspergrid, threadsperblock](ntmax, Nr, Npre, stdp, dw)\n",
    "res = dw_global_mem.copy_to_host()\n",
    "\n",
    "end = time.time()\n",
    "\n",
    "run_time = end - start\n",
    "\n",
    "print(\"Total time = {}\".format(run_time))"
   ]
  },
  {
   "cell_type": "code",
   "execution_count": null,
   "metadata": {},
   "outputs": [],
   "source": []
  },
  {
   "cell_type": "code",
   "execution_count": null,
   "metadata": {},
   "outputs": [],
   "source": []
  }
 ],
 "metadata": {
  "kernelspec": {
   "display_name": "Python 3",
   "language": "python",
   "name": "python3"
  },
  "language_info": {
   "codemirror_mode": {
    "name": "ipython",
    "version": 3
   },
   "file_extension": ".py",
   "mimetype": "text/x-python",
   "name": "python",
   "nbconvert_exporter": "python",
   "pygments_lexer": "ipython3",
   "version": "3.7.3"
  },
  "pycharm": {
   "stem_cell": {
    "cell_type": "raw",
    "metadata": {
     "collapsed": false
    },
    "source": []
   }
  }
 },
 "nbformat": 4,
 "nbformat_minor": 1
}
