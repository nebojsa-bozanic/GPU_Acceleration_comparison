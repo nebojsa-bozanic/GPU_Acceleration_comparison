{
 "cells": [
  {
   "cell_type": "code",
   "execution_count": 5,
   "metadata": {
    "pycharm": {
     "is_executing": false
    }
   },
   "outputs": [
    {
     "name": "stdout",
     "output_type": "stream",
     "text": [
      "Total time = 0.30300283432006836\n"
     ]
    }
   ],
   "source": [
    "from numba import jit\n",
    "import numpy as np \n",
    "import time\n",
    "\n",
    "@jit(nopython=True)\n",
    "def calc(ntmax, Nr, Npre, stdp, dw):\n",
    "    for i in range(0,ntmax):\n",
    "        # code to be parrallelized \n",
    "        for j in range(0,Nr):\n",
    "            for k in range(0,Npre):\n",
    "                if (stdp[j,k] > 0): dw[j,k]=1\n",
    "                if (stdp[j,k] < 0): dw[j,k]=-1       \n",
    "    return dw\n",
    "\n",
    "start = time.time()\n",
    "\n",
    "ntmax=200\n",
    "Nr=200\n",
    "Npre=200\n",
    "stdp=np.zeros([Nr,Npre])\n",
    "sw=np.zeros([Nr,Npre])\n",
    "dw=np.zeros([Nr,Npre])\n",
    "stdp=np.random.normal(0,1,[Nr,Npre])            \n",
    "\n",
    "result = calc(ntmax, Nr, Npre, stdp, dw)\n",
    "            \n",
    "end = time.time()\n",
    "\n",
    "run_time = end - start\n",
    "\n",
    "print(\"Total time = {}\".format(run_time))"
   ]
  },
  {
   "cell_type": "code",
   "execution_count": null,
   "metadata": {},
   "outputs": [],
   "source": []
  }
 ],
 "metadata": {
  "kernelspec": {
   "display_name": "Python 3",
   "language": "python",
   "name": "python3"
  },
  "language_info": {
   "codemirror_mode": {
    "name": "ipython",
    "version": 3
   },
   "file_extension": ".py",
   "mimetype": "text/x-python",
   "name": "python",
   "nbconvert_exporter": "python",
   "pygments_lexer": "ipython3",
   "version": "3.7.3"
  },
  "pycharm": {
   "stem_cell": {
    "cell_type": "raw",
    "metadata": {
     "collapsed": false
    },
    "source": []
   }
  }
 },
 "nbformat": 4,
 "nbformat_minor": 1
}
